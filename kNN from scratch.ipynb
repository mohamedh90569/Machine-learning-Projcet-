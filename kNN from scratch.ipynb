{
  "nbformat": 4,
  "nbformat_minor": 0,
  "metadata": {
    "colab": {
      "name": "kNNCO.ipynb",
      "provenance": []
    },
    "kernelspec": {
      "name": "python3",
      "display_name": "Python 3"
    },
    "language_info": {
      "name": "python"
    }
  },
  "cells": [
    {
      "cell_type": "code",
      "execution_count": 39,
      "metadata": {
        "colab": {
          "base_uri": "https://localhost:8080/"
        },
        "id": "RcTBu3-lfCgM",
        "outputId": "b75f5107-35ca-4a72-d00a-a44ae3cb04b5"
      },
      "outputs": [
        {
          "output_type": "stream",
          "name": "stdout",
          "text": [
            "5.1, 3.5, 1.4, 0.2, Iris-setosa\n",
            "4.9, 3.0, 1.4, 0.2, Iris-setosa\n",
            "4.7, 3.2, 1.3, 0.2, Iris-setosa\n",
            "4.6, 3.1, 1.5, 0.2, Iris-setosa\n",
            "5.0, 3.6, 1.4, 0.2, Iris-setosa\n",
            "5.4, 3.9, 1.7, 0.4, Iris-setosa\n",
            "4.6, 3.4, 1.4, 0.3, Iris-setosa\n",
            "5.0, 3.4, 1.5, 0.2, Iris-setosa\n",
            "4.4, 2.9, 1.4, 0.2, Iris-setosa\n",
            "4.9, 3.1, 1.5, 0.1, Iris-setosa\n",
            "5.4, 3.7, 1.5, 0.2, Iris-setosa\n",
            "4.8, 3.4, 1.6, 0.2, Iris-setosa\n",
            "4.8, 3.0, 1.4, 0.1, Iris-setosa\n",
            "4.3, 3.0, 1.1, 0.1, Iris-setosa\n",
            "5.8, 4.0, 1.2, 0.2, Iris-setosa\n",
            "5.7, 4.4, 1.5, 0.4, Iris-setosa\n",
            "5.4, 3.9, 1.3, 0.4, Iris-setosa\n",
            "5.1, 3.5, 1.4, 0.3, Iris-setosa\n",
            "5.7, 3.8, 1.7, 0.3, Iris-setosa\n",
            "5.1, 3.8, 1.5, 0.3, Iris-setosa\n",
            "5.4, 3.4, 1.7, 0.2, Iris-setosa\n",
            "5.1, 3.7, 1.5, 0.4, Iris-setosa\n",
            "4.6, 3.6, 1.0, 0.2, Iris-setosa\n",
            "5.1, 3.3, 1.7, 0.5, Iris-setosa\n",
            "4.8, 3.4, 1.9, 0.2, Iris-setosa\n",
            "5.0, 3.0, 1.6, 0.2, Iris-setosa\n",
            "5.0, 3.4, 1.6, 0.4, Iris-setosa\n",
            "5.2, 3.5, 1.5, 0.2, Iris-setosa\n",
            "5.2, 3.4, 1.4, 0.2, Iris-setosa\n",
            "4.7, 3.2, 1.6, 0.2, Iris-setosa\n",
            "4.8, 3.1, 1.6, 0.2, Iris-setosa\n",
            "5.4, 3.4, 1.5, 0.4, Iris-setosa\n",
            "5.2, 4.1, 1.5, 0.1, Iris-setosa\n",
            "5.5, 4.2, 1.4, 0.2, Iris-setosa\n",
            "4.9, 3.1, 1.5, 0.1, Iris-setosa\n",
            "5.0, 3.2, 1.2, 0.2, Iris-setosa\n",
            "5.5, 3.5, 1.3, 0.2, Iris-setosa\n",
            "4.9, 3.1, 1.5, 0.1, Iris-setosa\n",
            "4.4, 3.0, 1.3, 0.2, Iris-setosa\n",
            "5.1, 3.4, 1.5, 0.2, Iris-setosa\n",
            "5.0, 3.5, 1.3, 0.3, Iris-setosa\n",
            "4.5, 2.3, 1.3, 0.3, Iris-setosa\n",
            "4.4, 3.2, 1.3, 0.2, Iris-setosa\n",
            "5.0, 3.5, 1.6, 0.6, Iris-setosa\n",
            "5.1, 3.8, 1.9, 0.4, Iris-setosa\n",
            "4.8, 3.0, 1.4, 0.3, Iris-setosa\n",
            "5.1, 3.8, 1.6, 0.2, Iris-setosa\n",
            "4.6, 3.2, 1.4, 0.2, Iris-setosa\n",
            "5.3, 3.7, 1.5, 0.2, Iris-setosa\n",
            "5.0, 3.3, 1.4, 0.2, Iris-setosa\n",
            "7.0, 3.2, 4.7, 1.4, Iris-versicolor\n",
            "6.4, 3.2, 4.5, 1.5, Iris-versicolor\n",
            "6.9, 3.1, 4.9, 1.5, Iris-versicolor\n",
            "5.5, 2.3, 4.0, 1.3, Iris-versicolor\n",
            "6.5, 2.8, 4.6, 1.5, Iris-versicolor\n",
            "5.7, 2.8, 4.5, 1.3, Iris-versicolor\n",
            "6.3, 3.3, 4.7, 1.6, Iris-versicolor\n",
            "4.9, 2.4, 3.3, 1.0, Iris-versicolor\n",
            "6.6, 2.9, 4.6, 1.3, Iris-versicolor\n",
            "5.2, 2.7, 3.9, 1.4, Iris-versicolor\n",
            "5.0, 2.0, 3.5, 1.0, Iris-versicolor\n",
            "5.9, 3.0, 4.2, 1.5, Iris-versicolor\n",
            "6.0, 2.2, 4.0, 1.0, Iris-versicolor\n",
            "6.1, 2.9, 4.7, 1.4, Iris-versicolor\n",
            "5.6, 2.9, 3.6, 1.3, Iris-versicolor\n",
            "6.7, 3.1, 4.4, 1.4, Iris-versicolor\n",
            "5.6, 3.0, 4.5, 1.5, Iris-versicolor\n",
            "5.8, 2.7, 4.1, 1.0, Iris-versicolor\n",
            "6.2, 2.2, 4.5, 1.5, Iris-versicolor\n",
            "5.6, 2.5, 3.9, 1.1, Iris-versicolor\n",
            "5.9, 3.2, 4.8, 1.8, Iris-versicolor\n",
            "6.1, 2.8, 4.0, 1.3, Iris-versicolor\n",
            "6.3, 2.5, 4.9, 1.5, Iris-versicolor\n",
            "6.1, 2.8, 4.7, 1.2, Iris-versicolor\n",
            "6.4, 2.9, 4.3, 1.3, Iris-versicolor\n",
            "6.6, 3.0, 4.4, 1.4, Iris-versicolor\n",
            "6.8, 2.8, 4.8, 1.4, Iris-versicolor\n",
            "6.7, 3.0, 5.0, 1.7, Iris-versicolor\n",
            "6.0, 2.9, 4.5, 1.5, Iris-versicolor\n",
            "5.7, 2.6, 3.5, 1.0, Iris-versicolor\n",
            "5.5, 2.4, 3.8, 1.1, Iris-versicolor\n",
            "5.5, 2.4, 3.7, 1.0, Iris-versicolor\n",
            "5.8, 2.7, 3.9, 1.2, Iris-versicolor\n",
            "6.0, 2.7, 5.1, 1.6, Iris-versicolor\n",
            "5.4, 3.0, 4.5, 1.5, Iris-versicolor\n",
            "6.0, 3.4, 4.5, 1.6, Iris-versicolor\n",
            "6.7, 3.1, 4.7, 1.5, Iris-versicolor\n",
            "6.3, 2.3, 4.4, 1.3, Iris-versicolor\n",
            "5.6, 3.0, 4.1, 1.3, Iris-versicolor\n",
            "5.5, 2.5, 4.0, 1.3, Iris-versicolor\n",
            "5.5, 2.6, 4.4, 1.2, Iris-versicolor\n",
            "6.1, 3.0, 4.6, 1.4, Iris-versicolor\n",
            "5.8, 2.6, 4.0, 1.2, Iris-versicolor\n",
            "5.0, 2.3, 3.3, 1.0, Iris-versicolor\n",
            "5.6, 2.7, 4.2, 1.3, Iris-versicolor\n",
            "5.7, 3.0, 4.2, 1.2, Iris-versicolor\n",
            "5.7, 2.9, 4.2, 1.3, Iris-versicolor\n",
            "6.2, 2.9, 4.3, 1.3, Iris-versicolor\n",
            "5.1, 2.5, 3.0, 1.1, Iris-versicolor\n",
            "5.7, 2.8, 4.1, 1.3, Iris-versicolor\n",
            "6.3, 3.3, 6.0, 2.5, Iris-virginica\n",
            "5.8, 2.7, 5.1, 1.9, Iris-virginica\n",
            "7.1, 3.0, 5.9, 2.1, Iris-virginica\n",
            "6.3, 2.9, 5.6, 1.8, Iris-virginica\n",
            "6.5, 3.0, 5.8, 2.2, Iris-virginica\n",
            "7.6, 3.0, 6.6, 2.1, Iris-virginica\n",
            "4.9, 2.5, 4.5, 1.7, Iris-virginica\n",
            "7.3, 2.9, 6.3, 1.8, Iris-virginica\n",
            "6.7, 2.5, 5.8, 1.8, Iris-virginica\n",
            "7.2, 3.6, 6.1, 2.5, Iris-virginica\n",
            "6.5, 3.2, 5.1, 2.0, Iris-virginica\n",
            "6.4, 2.7, 5.3, 1.9, Iris-virginica\n",
            "6.8, 3.0, 5.5, 2.1, Iris-virginica\n",
            "5.7, 2.5, 5.0, 2.0, Iris-virginica\n",
            "5.8, 2.8, 5.1, 2.4, Iris-virginica\n",
            "6.4, 3.2, 5.3, 2.3, Iris-virginica\n",
            "6.5, 3.0, 5.5, 1.8, Iris-virginica\n",
            "7.7, 3.8, 6.7, 2.2, Iris-virginica\n",
            "7.7, 2.6, 6.9, 2.3, Iris-virginica\n",
            "6.0, 2.2, 5.0, 1.5, Iris-virginica\n",
            "6.9, 3.2, 5.7, 2.3, Iris-virginica\n",
            "5.6, 2.8, 4.9, 2.0, Iris-virginica\n",
            "7.7, 2.8, 6.7, 2.0, Iris-virginica\n",
            "6.3, 2.7, 4.9, 1.8, Iris-virginica\n",
            "6.7, 3.3, 5.7, 2.1, Iris-virginica\n",
            "7.2, 3.2, 6.0, 1.8, Iris-virginica\n",
            "6.2, 2.8, 4.8, 1.8, Iris-virginica\n",
            "6.1, 3.0, 4.9, 1.8, Iris-virginica\n",
            "6.4, 2.8, 5.6, 2.1, Iris-virginica\n",
            "7.2, 3.0, 5.8, 1.6, Iris-virginica\n",
            "7.4, 2.8, 6.1, 1.9, Iris-virginica\n",
            "7.9, 3.8, 6.4, 2.0, Iris-virginica\n",
            "6.4, 2.8, 5.6, 2.2, Iris-virginica\n",
            "6.3, 2.8, 5.1, 1.5, Iris-virginica\n",
            "6.1, 2.6, 5.6, 1.4, Iris-virginica\n",
            "7.7, 3.0, 6.1, 2.3, Iris-virginica\n",
            "6.3, 3.4, 5.6, 2.4, Iris-virginica\n",
            "6.4, 3.1, 5.5, 1.8, Iris-virginica\n",
            "6.0, 3.0, 4.8, 1.8, Iris-virginica\n",
            "6.9, 3.1, 5.4, 2.1, Iris-virginica\n",
            "6.7, 3.1, 5.6, 2.4, Iris-virginica\n",
            "6.9, 3.1, 5.1, 2.3, Iris-virginica\n",
            "5.8, 2.7, 5.1, 1.9, Iris-virginica\n",
            "6.8, 3.2, 5.9, 2.3, Iris-virginica\n",
            "6.7, 3.3, 5.7, 2.5, Iris-virginica\n",
            "6.7, 3.0, 5.2, 2.3, Iris-virginica\n",
            "6.3, 2.5, 5.0, 1.9, Iris-virginica\n",
            "6.5, 3.0, 5.2, 2.0, Iris-virginica\n",
            "6.2, 3.4, 5.4, 2.3, Iris-virginica\n",
            "5.9, 3.0, 5.1, 1.8, Iris-virginica\n"
          ]
        }
      ],
      "source": [
        "#The first thing we need to do is load our data file.\n",
        "import csv\n",
        "with open('iris.data.txt', 'r') as csvfile:\n",
        "   lines = csv.reader(csvfile)\n",
        "   for row in lines :\n",
        "      print (', '.join(row))"
      ]
    },
    {
      "cell_type": "code",
      "source": [
        "#Next we need to split the data into a training dataset\n",
        "import csv\n",
        "import random\n",
        "import pandas as pd\n",
        "def loadDataset(filename, split, trainingSet=[] , testSet=[]):\n",
        "  with open(filename, 'r') as csvfile:\n",
        "     lines = csv.reader(csvfile)\n",
        "     dataset = list(lines)\n",
        "     for x in range(len(dataset)-1):\n",
        "       for y in range(4):\n",
        "          dataset[x][y] = float(dataset[x][y])\n",
        "       if random.random() < split:        \n",
        "          trainingSet.append(dataset[x])     \n",
        "       else:\n",
        "          testSet.append(dataset[x])"
      ],
      "metadata": {
        "id": "0kRkT-XRgKMy"
      },
      "execution_count": 20,
      "outputs": []
    },
    {
      "cell_type": "code",
      "source": [
        "#We can test this function out with our iris dataset, as follows:\n",
        "\n",
        "trainingSet=[]\n",
        "\n",
        "testSet=[]\n",
        "\n",
        "loadDataset('iris.data.txt', 0.66, trainingSet, testSet)\n",
        "\n",
        "print ('Train: ' + repr(len(trainingSet)))\n",
        "\n",
        "print ('Test: ' + repr(len(testSet)) )"
      ],
      "metadata": {
        "colab": {
          "base_uri": "https://localhost:8080/"
        },
        "id": "YwYderIJgKYy",
        "outputId": "efc6fbbb-624c-46c5-8151-877552ca624e"
      },
      "execution_count": 21,
      "outputs": [
        {
          "output_type": "stream",
          "name": "stdout",
          "text": [
            "Train: 101\n",
            "Test: 48\n"
          ]
        }
      ]
    },
    {
      "cell_type": "code",
      "source": [
        "import numpy as np\n",
        "import math\n",
        "def compute_euclidean(test1, test2,length):\n",
        "    distance=0\n",
        "    for x in range(length):\n",
        "      distance+=pow((test1[x]-test2[x]),2)\n",
        "    return math.sqrt(distance) "
      ],
      "metadata": {
        "id": "Q8806xhRgKbW"
      },
      "execution_count": 22,
      "outputs": []
    },
    {
      "cell_type": "code",
      "source": [
        "data1 = [2, 2, 2, 'a']\n",
        "data2 = [4, 4, 4, 'b']\n",
        "distance = compute_euclidean(data1, data2,3)\n",
        "print(distance)"
      ],
      "metadata": {
        "colab": {
          "base_uri": "https://localhost:8080/"
        },
        "id": "e112HYjPgKey",
        "outputId": "3c41bb59-d280-48c1-c215-869134024655"
      },
      "execution_count": 23,
      "outputs": [
        {
          "output_type": "stream",
          "name": "stdout",
          "text": [
            "3.4641016151377544\n"
          ]
        }
      ]
    },
    {
      "cell_type": "code",
      "source": [
        "#Find k nearest point\n",
        "import operator\n",
        "def getNeighbors(trainingSet, testInstance, k):\n",
        "  distances = []\n",
        "  length = len(testInstance)-1\n",
        "  for x in range(len(trainingSet)):\n",
        "    dist = compute_euclidean(testInstance, trainingSet[x], length)\n",
        "    distances.append((trainingSet[x], dist))\n",
        " \n",
        "  distances.sort(key=operator.itemgetter(1))\n",
        "  neighbors = []\n",
        "  \n",
        "  for x in range(k):\n",
        "       neighbors.append(distances[x][0])\n",
        "  return neighbors"
      ],
      "metadata": {
        "id": "2Hq8jcaDfRY4"
      },
      "execution_count": 24,
      "outputs": []
    },
    {
      "cell_type": "code",
      "source": [
        "#We can test out this function as follows:\n",
        "trainSet = [[2, 2, 2, 'a'], [4, 4, 4, 'b']]\n",
        "testInstance = [5, 5, 5]\n",
        "k = 1\n",
        "neighbors = getNeighbors(trainSet, testInstance, k)\n",
        "print(neighbors)"
      ],
      "metadata": {
        "id": "UEmsUGFtfRbn",
        "colab": {
          "base_uri": "https://localhost:8080/"
        },
        "outputId": "854fa993-aac6-4c2a-a559-f4a31a448816"
      },
      "execution_count": 25,
      "outputs": [
        {
          "output_type": "stream",
          "name": "stdout",
          "text": [
            "[[4, 4, 4, 'b']]\n"
          ]
        }
      ]
    },
    {
      "cell_type": "code",
      "source": [
        "#Predict the class\n",
        "import operator\n",
        "def getResponse(neighbors):\n",
        "    classVotes = {}\n",
        "    for x in range(len(neighbors)):\n",
        "        response = neighbors[x][-1]\n",
        "        if response in classVotes:\n",
        "            classVotes[response] += 1\n",
        "        else:\n",
        "            classVotes[response] = 1\n",
        "    sortedVotes = sorted(classVotes.items(), key=operator.itemgetter(1), reverse=True)\n",
        "    return sortedVotes[0][0]"
      ],
      "metadata": {
        "id": "oXsA9XwHfReI"
      },
      "execution_count": 26,
      "outputs": []
    },
    {
      "cell_type": "code",
      "source": [
        "#We can test out this function with some test neighbors, as follows:\n",
        "neighbors = [[1,1,1,'a'], [2,2,2,'a'], [3,3,3,'b']]\n",
        "response = getResponse(neighbors)\n",
        "print(response)"
      ],
      "metadata": {
        "id": "sEqX-5VNfRgu",
        "colab": {
          "base_uri": "https://localhost:8080/"
        },
        "outputId": "ab191fab-ec01-4fbc-b6d7-435bc7bbb465"
      },
      "execution_count": 27,
      "outputs": [
        {
          "output_type": "stream",
          "name": "stdout",
          "text": [
            "a\n"
          ]
        }
      ]
    },
    {
      "cell_type": "code",
      "source": [
        "#Accuracy\n",
        "def getAccuracy(testSet, predictions):\n",
        "    correct = 0\n",
        "    for x in range(len(testSet)):\n",
        "        if testSet[x][-1] == predictions[x]:\n",
        "            correct += 1\n",
        "    return (correct/float(len(testSet))) * 100.0"
      ],
      "metadata": {
        "id": "-S9dg0_ofRje"
      },
      "execution_count": 42,
      "outputs": []
    },
    {
      "cell_type": "code",
      "source": [
        "#We can test this function with a test dataset and predictions, as follows:\n",
        "testSet = [[1,1,1,'a'], [2,2,2,'a'], [3,3,3,'b']]\n",
        "predictions = ['a', 'a', 'a']\n",
        "accuracy = getAccuracy(testSet, predictions)\n",
        "print(accuracy)"
      ],
      "metadata": {
        "id": "Um5-ADejfRl7",
        "colab": {
          "base_uri": "https://localhost:8080/"
        },
        "outputId": "d4855f44-6fe2-42e7-cd11-da844e40a0ed"
      },
      "execution_count": 43,
      "outputs": [
        {
          "output_type": "stream",
          "name": "stdout",
          "text": [
            "66.66666666666666\n"
          ]
        }
      ]
    },
    {
      "cell_type": "code",
      "source": [
        "# import csv\n",
        "# import random\n",
        "# import math\n",
        "# import operator\n",
        "# def loadDataset(filename, split, trainingSet=[] , testSet=[]):\n",
        "#   with open(filename, 'r') as csvfile:\n",
        "#      lines = csv.reader(csvfile)\n",
        "#      dataset = list(lines)\n",
        "#      for x in range(len(dataset)-1):\n",
        "#        for y in range(4):\n",
        "#           dataset[x][y] = float(dataset[x][y])\n",
        "#        if random.random() < split:        \n",
        "#           trainingSet.append(dataset[x])     \n",
        "#        else:\n",
        "#           testSet.append(dataset[x])\n",
        "#   def compute_euclidean(trainingSet, testSet,length):\n",
        "#         distance=0\n",
        "#         for x in range(length):\n",
        "#           distance+=pow((trainingSet[x]-trainingSet[x]),2)\n",
        "#   return math.sqrt(distance) \n",
        "#   def getNeighbors(trainingSet, testSet, k):\n",
        "#         distances = []\n",
        "#         length = len(testSet)-1\n",
        "#         for x in range(len(trainingSet)):\n",
        "#            dist = compute_euclidean(testSet, trainingSet[x], length)\n",
        "#            distances.append((trainingSet[x], dist))\n",
        "#            distances.sort(key=operator.itemgetter(1))\n",
        "#            neighbors = []\n",
        "#            for x in range(k):\n",
        "#              neighbors.append(distances[x][0])\n",
        "#   return neighbors\n",
        "#   def getResponse(neighbors):\n",
        "#        classVotes = {}\n",
        "#        for x in range(len(neighbors)):\n",
        "#            response = neighbors[x][-1]\n",
        "#            if response in classVotes:\n",
        "#                classVotes[response] += 1\n",
        "#            else:\n",
        "#                classVotes[response] = 1\n",
        "#        sortedVotes = sorted(classVotes.items(), key=operator.itemgetter(1), reverse=True)\n",
        "#   return sortedVotes[0][0]\n",
        "#   def getAccuracy(testSet, predictions):\n",
        "#             correct = 0\n",
        "#             for x in range(len(testSet)):\n",
        "#               if testSet[x][-1] is predictions[x]:\n",
        "#                   correct += 1\n",
        "#   return (correct/float(len(testSet))) * 100.0\n",
        "#   def main():\n",
        "#           accuracy = getAccuracy(testSet, predictions)\n",
        "#           print('Accuracy: ' + repr(accuracy) + '%')    "
      ],
      "metadata": {
        "id": "GVRmgqwkfRog"
      },
      "execution_count": 30,
      "outputs": []
    },
    {
      "cell_type": "code",
      "source": [
        "# loadDataset('iris.data.txt', 0.66, trainingSet, testSet)"
      ],
      "metadata": {
        "id": "q5VqugkwfRrc",
        "colab": {
          "base_uri": "https://localhost:8080/"
        },
        "outputId": "10c4df47-da0e-42db-eae8-2d5202c1e43f"
      },
      "execution_count": 31,
      "outputs": [
        {
          "output_type": "execute_result",
          "data": {
            "text/plain": [
              "1.8612097182041991"
            ]
          },
          "metadata": {},
          "execution_count": 31
        }
      ]
    },
    {
      "cell_type": "code",
      "source": [
        "def main():\n",
        "  split=0.85\n",
        "  trainingSet=[]\n",
        "  testSet=[]\n",
        "  loadDataset(\"iris.data.txt\", split, trainingSet , testSet)\n",
        "  predictions=[]\n",
        "  k=3\n",
        "  for i in range(len(testSet)):\n",
        "    neighbor =getNeighbors(trainingSet, testSet[i], k)\n",
        "    result = getResponse(neighbor)\n",
        "    predictions.append(result)\n",
        "  acc=getAccuracy(testSet, predictions)\n",
        "  print(acc)\n",
        "main() "
      ],
      "metadata": {
        "colab": {
          "base_uri": "https://localhost:8080/"
        },
        "id": "EZunevUw0WeB",
        "outputId": "f9869ec1-a92e-4921-cbf3-0adc84298ca6"
      },
      "execution_count": 48,
      "outputs": [
        {
          "output_type": "stream",
          "name": "stdout",
          "text": [
            "100.0\n"
          ]
        }
      ]
    },
    {
      "cell_type": "code",
      "source": [
        "import numpy as np\n",
        "import math\n",
        "def dista(test1, test2,length):\n",
        "    distance=0\n",
        "    for x in range(length):\n",
        "      distance+=(test1[x]-test2[x])\n",
        "    return (distance) "
      ],
      "metadata": {
        "id": "DER1-T_U0WtX"
      },
      "execution_count": 49,
      "outputs": []
    },
    {
      "cell_type": "code",
      "source": [
        "def getNeighbor(trainingSet, testInstance, k):\n",
        "  distances = []\n",
        "  length = len(testInstance)-1\n",
        "  for x in range(len(trainingSet)):\n",
        "    dist = dista(testInstance, trainingSet[x], length)\n",
        "    distances.append((trainingSet[x], dist))\n",
        " \n",
        "  distances.sort(key=operator.itemgetter(1))\n",
        "  neighbors = []\n",
        "  \n",
        "  for x in range(k):\n",
        "       neighbors.append(distances[x][0])\n",
        "  return neighbors"
      ],
      "metadata": {
        "id": "Yc__oDmW6HqO"
      },
      "execution_count": 50,
      "outputs": []
    },
    {
      "cell_type": "code",
      "source": [
        "def main():\n",
        "  split=0.85\n",
        "  trainingSet=[]\n",
        "  testSet=[]\n",
        "  loadDataset(\"iris.data.txt\", split, trainingSet , testSet)\n",
        "  predictions=[]\n",
        "  k=3\n",
        "  for i in range(len(testSet)):\n",
        "    neighbor =getNeighbor(trainingSet, testSet[i], k)\n",
        "    result = getResponse(neighbor)\n",
        "    predictions.append(result)\n",
        "  acc=getAccuracy(testSet, predictions)\n",
        "  print(acc)\n",
        "main() "
      ],
      "metadata": {
        "colab": {
          "base_uri": "https://localhost:8080/"
        },
        "id": "3wyfuOV06Htx",
        "outputId": "cae8e50d-1b26-4424-e10d-072bef690d6f"
      },
      "execution_count": 52,
      "outputs": [
        {
          "output_type": "stream",
          "name": "stdout",
          "text": [
            "35.714285714285715\n"
          ]
        }
      ]
    }
  ]
}