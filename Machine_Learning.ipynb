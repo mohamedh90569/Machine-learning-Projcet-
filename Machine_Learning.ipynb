{
  "nbformat": 4,
  "nbformat_minor": 0,
  "metadata": {
    "colab": {
      "provenance": [],
      "collapsed_sections": []
    },
    "kernelspec": {
      "name": "python3",
      "display_name": "Python 3"
    },
    "language_info": {
      "name": "python"
    },
    "accelerator": "GPU",
    "gpuClass": "standard"
  },
  "cells": [
    {
      "cell_type": "markdown",
      "source": [
        "## Import libraries"
      ],
      "metadata": {
        "id": "_iy0pyqlqwnV"
      }
    },
    {
      "cell_type": "code",
      "execution_count": 1,
      "metadata": {
        "id": "nC96btiHqke-"
      },
      "outputs": [],
      "source": [
        "import numpy as np\n",
        "import pandas as pd\n",
        "import matplotlib.pyplot as plt\n",
        "from sklearn import metrics"
      ]
    },
    {
      "cell_type": "markdown",
      "source": [
        "## Load the data"
      ],
      "metadata": {
        "id": "rZJ5GCvOq2jK"
      }
    },
    {
      "cell_type": "code",
      "source": [
        "data = pd.read_csv('USA_Students.csv')\n",
        "print(data.describe())\n",
        "X=data['SAT']\n",
        "Y=data['GPA']\n",
        "print(data.shape)\n",
        "print(X.shape)"
      ],
      "metadata": {
        "colab": {
          "base_uri": "https://localhost:8080/"
        },
        "id": "vdnQzKVhq3Mf",
        "outputId": "1ed0ba9e-2595-43f4-98b6-48dd56bf4fb0"
      },
      "execution_count": 2,
      "outputs": [
        {
          "output_type": "stream",
          "name": "stdout",
          "text": [
            "               SAT          IQ        GPA\n",
            "count    84.000000   84.000000  84.000000\n",
            "mean   1845.273810  111.928571   3.330238\n",
            "std     104.530661    8.050721   0.271617\n",
            "min    1634.000000   96.000000   2.400000\n",
            "25%    1772.000000  106.000000   3.190000\n",
            "50%    1846.000000  112.000000   3.380000\n",
            "75%    1934.000000  119.000000   3.502500\n",
            "max    2050.000000  128.000000   3.810000\n",
            "(84, 3)\n",
            "(84,)\n"
          ]
        }
      ]
    },
    {
      "cell_type": "markdown",
      "source": [
        "## Plot the samples"
      ],
      "metadata": {
        "id": "pXTzCL1yq5Yj"
      }
    },
    {
      "cell_type": "code",
      "source": [
        "plt.scatter(X, Y)\n",
        "plt.xlabel('SAT', fontsize = 20)\n",
        "plt.ylabel('GPA', fontsize = 20)\n",
        "plt.show()"
      ],
      "metadata": {
        "colab": {
          "base_uri": "https://localhost:8080/",
          "height": 288
        },
        "id": "NntuwwQgq8IZ",
        "outputId": "18b79ef6-84cf-43ba-c4d0-75b45e7be30f"
      },
      "execution_count": 3,
      "outputs": [
        {
          "output_type": "display_data",
          "data": {
            "text/plain": [
              "<Figure size 432x288 with 1 Axes>"
            ],
            "image/png": "[encoded data removed]"
          },
          "metadata": {
            "needs_background": "light"
          }
        }
      ]
    },
    {
      "cell_type": "markdown",
      "source": [
        "## Hyper-prameters"
      ],
      "metadata": {
        "id": "cXs7utKJq_Vj"
      }
    },
    {
      "cell_type": "code",
      "source": [
        "L = 0.0000001  # The learning Rate\n",
        "epochs = 100  # The number of iterations to perform gradient descent\n",
        "m=0\n",
        "c=0\n",
        "n = float(len(X)) # Number of elements in X"
      ],
      "metadata": {
        "id": "-iAcECVcrEE7"
      },
      "execution_count": 4,
      "outputs": []
    },
    {
      "cell_type": "markdown",
      "source": [
        "## Gradient Descent Algorithm"
      ],
      "metadata": {
        "id": "h7q5g-WmrHCg"
      }
    },
    {
      "cell_type": "code",
      "source": [
        "for i in range(epochs):\n",
        "\n",
        "    # Step 1 : Calculate YHAT\n",
        "    Y_pred = m*X + c  # The current predicted value of Y\n",
        "    \n",
        "    # Step 2 : Get Gradients\n",
        "    D_m = (-2/n) * sum(X * (Y - Y_pred))  # Derivative wrt m\n",
        "    D_c = (-2/n) * sum(Y - Y_pred)  # Derivative wrt c\n",
        "    \n",
        "    # Step : Update\n",
        "    m = m - L * D_m  # Update m\n",
        "    c = c - L * D_c  # Update c"
      ],
      "metadata": {
        "id": "bvTWIbTarJ-Z"
      },
      "execution_count": 5,
      "outputs": []
    },
    {
      "cell_type": "markdown",
      "source": [
        "## Evaluation"
      ],
      "metadata": {
        "id": "HNt8biVHrLPB"
      }
    },
    {
      "cell_type": "code",
      "source": [
        "prediction=X*m+c\n",
        "plt.scatter(X, Y)\n",
        "plt.xlabel('SAT', fontsize = 20)\n",
        "plt.ylabel('GPA', fontsize = 20)\n",
        "plt.plot(X, prediction, color='red', linewidth = 3)\n",
        "plt.show()\n",
        "\n",
        "print('Mean Square Error', metrics.mean_squared_error(Y, prediction))"
      ],
      "metadata": {
        "colab": {
          "base_uri": "https://localhost:8080/",
          "height": 305
        },
        "id": "xqNURTC9rOwj",
        "outputId": "6cdf07b8-74b6-4809-8e58-70a6ab502a26"
      },
      "execution_count": 6,
      "outputs": [
        {
          "output_type": "display_data",
          "data": {
            "text/plain": [
              "<Figure size 432x288 with 1 Axes>"
            ],
            "image/png": "[encoded data removed]"
          },
          "metadata": {
            "needs_background": "light"
          }
        },
        {
          "output_type": "stream",
          "name": "stdout",
          "text": [
            "Mean Square Error 0.043539966469155686\n"
          ]
        }
      ]
    },
    {
      "cell_type": "markdown",
      "source": [
        "## Prediction"
      ],
      "metadata": {
        "id": "AOAUQePPr0Jd"
      }
    },
    {
      "cell_type": "code",
      "source": [
        "#Predict your GPA based on your SAT Score\n",
        "STA_Score=int(input('Enter your SAT score: '))\n",
        "y_test=m*STA_Score + c\n",
        "print('Your predicted GPA is ' + str(float(y_test)))"
      ],
      "metadata": {
        "colab": {
          "base_uri": "https://localhost:8080/"
        },
        "id": "w6cQEOoArz0-",
        "outputId": "0ba055a5-7d92-482f-fbfc-9535c7245082"
      },
      "execution_count": 7,
      "outputs": [
        {
          "output_type": "stream",
          "name": "stdout",
          "text": [
            "Enter your SAT score: 5\n",
            "Your predicted GPA is 0.009022330144739353\n"
          ]
        }
      ]
    },
    {
      "cell_type": "markdown",
      "source": [
        "# Exercise 3"
      ],
      "metadata": {
        "id": "WHqX0Ajr9HGU"
      }
    },
    {
      "cell_type": "markdown",
      "source": [
        "## Feature Encoding"
      ],
      "metadata": {
        "id": "K2xpDHTF9qlm"
      }
    },
    {
      "cell_type": "code",
      "source": [
        "from sklearn.preprocessing import LabelEncoder\n",
        "def Feature_Encoder(X,cols):\n",
        "    for c in cols:\n",
        "        lbl = LabelEncoder()\n",
        "        lbl.fit(list(X[c].values))\n",
        "        X[c] = lbl.transform(list(X[c].values))\n",
        "    return X"
      ],
      "metadata": {
        "id": "UTn7M5DX9sTE"
      },
      "execution_count": 8,
      "outputs": []
    },
    {
      "cell_type": "markdown",
      "source": [
        "## Data preprocessing"
      ],
      "metadata": {
        "id": "yWuaAPV29wsS"
      }
    },
    {
      "cell_type": "code",
      "source": [
        "# Import libraries\n",
        "import numpy as np\n",
        "import pandas as pd\n",
        "import seaborn as sns\n",
        "import matplotlib.pyplot as plt\n",
        "from sklearn import linear_model\n",
        "from sklearn import metrics\n",
        "from sklearn.model_selection import train_test_split\n",
        "\n",
        "# Pre-processing\n",
        "#Load players data\n",
        "data = pd.read_csv('fifa19.csv')\n",
        "#Drop the rows that contain missing values\n",
        "data.dropna(how='any',inplace=True)\n",
        "fifa_data=data.iloc[:,:]\n",
        "X=data.iloc[:,1:40] #Features\n",
        "print(X)\n",
        "Y=data['Value'] #Label\n",
        "cols=('Nationality','Club','Position')\n",
        "X=Feature_Encoder(X,cols);\n",
        "\n",
        "#Split the data to training and testing sets\n",
        "X_train, X_test, y_train, y_test = train_test_split(X, Y, test_size = 0.30,shuffle=True)\n",
        "#Get the correlation between the features\n",
        "corr = fifa_data.corr()\n",
        "#Top 50% Correlation training features with the Value\n",
        "top_feature = corr.index[abs(corr['Value']>0.5)]\n",
        "#Correlation plot\n",
        "plt.subplots(figsize=(12, 8))\n",
        "top_corr = fifa_data[top_feature].corr()\n",
        "sns.heatmap(top_corr, annot=True)\n",
        "plt.show()"
      ],
      "metadata": {
        "colab": {
          "base_uri": "https://localhost:8080/",
          "height": 1000
        },
        "id": "0OM4se_a9LcM",
        "outputId": "d9594d51-9d54-48c5-f98a-6357871bd43d"
      },
      "execution_count": 9,
      "outputs": [
        {
          "output_type": "stream",
          "name": "stdout",
          "text": [
            "       Age Nationality  Overall  Potential                 Club Position  \\\n",
            "0       31   Argentina       94         94         FC Barcelona       RF   \n",
            "1       33    Portugal       94         94             Juventus       ST   \n",
            "2       26      Brazil       92         93  Paris Saint-Germain       LW   \n",
            "3       27       Spain       91         93    Manchester United       GK   \n",
            "4       27     Belgium       91         92      Manchester City      RCM   \n",
            "...    ...         ...      ...        ...                  ...      ...   \n",
            "17950   19     England       47         65      Crewe Alexandra       CM   \n",
            "17951   19      Sweden       47         63       Trelleborgs FF       ST   \n",
            "17952   16     England       47         67     Cambridge United       ST   \n",
            "17953   17     England       47         66      Tranmere Rovers       RW   \n",
            "17954   16     England       46         66      Tranmere Rovers       CM   \n",
            "\n",
            "       Crossing  Finishing  HeadingAccuracy  ShortPassing  ...  Vision  \\\n",
            "0          84.0       95.0             70.0          90.0  ...    94.0   \n",
            "1          84.0       94.0             89.0          81.0  ...    82.0   \n",
            "2          79.0       87.0             62.0          84.0  ...    87.0   \n",
            "3          17.0       13.0             21.0          50.0  ...    68.0   \n",
            "4          93.0       82.0             55.0          92.0  ...    94.0   \n",
            "...         ...        ...              ...           ...  ...     ...   \n",
            "17950      34.0       38.0             40.0          49.0  ...    52.0   \n",
            "17951      23.0       52.0             52.0          43.0  ...    33.0   \n",
            "17952      25.0       40.0             46.0          38.0  ...    43.0   \n",
            "17953      44.0       50.0             39.0          42.0  ...    47.0   \n",
            "17954      41.0       34.0             46.0          48.0  ...    49.0   \n",
            "\n",
            "       Penalties  Composure  Marking  StandingTackle  SlidingTackle  GKDiving  \\\n",
            "0           75.0       96.0     33.0            28.0           26.0       6.0   \n",
            "1           85.0       95.0     28.0            31.0           23.0       7.0   \n",
            "2           81.0       94.0     27.0            24.0           33.0       9.0   \n",
            "3           40.0       68.0     15.0            21.0           13.0      90.0   \n",
            "4           79.0       88.0     68.0            58.0           51.0      15.0   \n",
            "...          ...        ...      ...             ...            ...       ...   \n",
            "17950       43.0       45.0     40.0            48.0           47.0      10.0   \n",
            "17951       43.0       42.0     22.0            15.0           19.0      10.0   \n",
            "17952       55.0       41.0     32.0            13.0           11.0       6.0   \n",
            "17953       50.0       46.0     20.0            25.0           27.0      14.0   \n",
            "17954       33.0       43.0     40.0            43.0           50.0      10.0   \n",
            "\n",
            "       GKHandling  GKKicking  GKPositioning  \n",
            "0            11.0       15.0           14.0  \n",
            "1            11.0       15.0           14.0  \n",
            "2             9.0       15.0           15.0  \n",
            "3            85.0       87.0           88.0  \n",
            "4            13.0        5.0           10.0  \n",
            "...           ...        ...            ...  \n",
            "17950        13.0        7.0            8.0  \n",
            "17951         9.0        9.0            5.0  \n",
            "17952         5.0       10.0            6.0  \n",
            "17953         6.0       14.0            8.0  \n",
            "17954        15.0        9.0           12.0  \n",
            "\n",
            "[17907 rows x 39 columns]\n"
          ]
        },
        {
          "output_type": "display_data",
          "data": {
            "text/plain": [
              "<Figure size 864x576 with 2 Axes>"
            ],
            "image/png": "[encoded data removed]"
          },
          "metadata": {
            "needs_background": "light"
          }
        }
      ]
    },
    {
      "cell_type": "markdown",
      "source": [
        "## Multiple Linear Regression"
      ],
      "metadata": {
        "id": "Ztb9rLzz98bI"
      }
    },
    {
      "cell_type": "code",
      "source": [
        "cls = linear_model.LinearRegression()\n",
        "\n",
        "L = 0.0000001  # The learning Rate\n",
        "epochs = 1000  # The number of iterations to perform gradient descent\n",
        "m1=0\n",
        "m2=0\n",
        "m3=0\n",
        "c=0\n",
        "n = float(len(X_train)) # Number of elements in X\n",
        "for i in range(epochs):\n",
        "    # Student code\n",
        "    Y_pred = m1*X +m2*X +m3*X + c  # The current predicted value of Y\n",
        "    \n",
        "    # Step 2 : Get Gradients\n",
        "    D_m = (-2/n) * sum(X * (Y - Y_pred))  # Derivative wrt m\n",
        "    D_c = (-2/n) * sum(Y - Y_pred)  # Derivative wrt c\n",
        "    \n",
        "    # Step : Update\n",
        "    m = m - L * D_m  # Update m\n",
        "    c = c - L * D_c  # Update c\n",
        "    # Student code\n"
      ],
      "metadata": {
        "id": "MON9RfRu-GBk",
        "colab": {
          "base_uri": "https://localhost:8080/",
          "height": 235
        },
        "outputId": "7c2d1ede-b31b-4715-85a8-2fdc2cf6bea9"
      },
      "execution_count": 11,
      "outputs": [
        {
          "output_type": "error",
          "ename": "TypeError",
          "evalue": "ignored",
          "traceback": [
            "\u001b[0;31m---------------------------------------------------------------------------\u001b[0m",
            "\u001b[0;31mTypeError\u001b[0m                                 Traceback (most recent call last)",
            "\u001b[0;32m<ipython-input-11-ab72180505a0>\u001b[0m in \u001b[0;36m<module>\u001b[0;34m\u001b[0m\n\u001b[1;32m     13\u001b[0m \u001b[0;34m\u001b[0m\u001b[0m\n\u001b[1;32m     14\u001b[0m     \u001b[0;31m# Step 2 : Get Gradients\u001b[0m\u001b[0;34m\u001b[0m\u001b[0;34m\u001b[0m\u001b[0;34m\u001b[0m\u001b[0m\n\u001b[0;32m---> 15\u001b[0;31m     \u001b[0mD_m\u001b[0m \u001b[0;34m=\u001b[0m \u001b[0;34m(\u001b[0m\u001b[0;34m-\u001b[0m\u001b[0;36m2\u001b[0m\u001b[0;34m/\u001b[0m\u001b[0mn\u001b[0m\u001b[0;34m)\u001b[0m \u001b[0;34m*\u001b[0m \u001b[0msum\u001b[0m\u001b[0;34m(\u001b[0m\u001b[0mX\u001b[0m \u001b[0;34m*\u001b[0m \u001b[0;34m(\u001b[0m\u001b[0mY\u001b[0m \u001b[0;34m-\u001b[0m \u001b[0mY_pred\u001b[0m\u001b[0;34m)\u001b[0m\u001b[0;34m)\u001b[0m  \u001b[0;31m# Derivative wrt m\u001b[0m\u001b[0;34m\u001b[0m\u001b[0;34m\u001b[0m\u001b[0m\n\u001b[0m\u001b[1;32m     16\u001b[0m     \u001b[0mD_c\u001b[0m \u001b[0;34m=\u001b[0m \u001b[0;34m(\u001b[0m\u001b[0;34m-\u001b[0m\u001b[0;36m2\u001b[0m\u001b[0;34m/\u001b[0m\u001b[0mn\u001b[0m\u001b[0;34m)\u001b[0m \u001b[0;34m*\u001b[0m \u001b[0msum\u001b[0m\u001b[0;34m(\u001b[0m\u001b[0mY\u001b[0m \u001b[0;34m-\u001b[0m \u001b[0mY_pred\u001b[0m\u001b[0;34m)\u001b[0m  \u001b[0;31m# Derivative wrt c\u001b[0m\u001b[0;34m\u001b[0m\u001b[0;34m\u001b[0m\u001b[0m\n\u001b[1;32m     17\u001b[0m \u001b[0;34m\u001b[0m\u001b[0m\n",
            "\u001b[0;31mTypeError\u001b[0m: unsupported operand type(s) for +: 'int' and 'str'"
          ]
        }
      ]
    },
    {
      "cell_type": "markdown",
      "source": [
        "## Prediction"
      ],
      "metadata": {
        "id": "FmBrijtU-UQi"
      }
    },
    {
      "cell_type": "code",
      "source": [
        "prediction=np.array(X_test)[:,0]*m1+np.array(X_test)[:,1]*m2+np.array(X_test)[:,2]*m3+c\n",
        "\n",
        "cls.fit(X_train,y_train)\n",
        "prediction2= cls.predict(X_test)\n",
        "\n",
        "print('Co-efficient of linear regression',cls.coef_)\n",
        "print('Intercept of linear regression model',cls.intercept_)\n",
        "print('Mean Square Error', metrics.mean_squared_error(np.asarray(y_test), prediction))\n",
        "print('Mean Square Error 2', metrics.mean_squared_error(np.asarray(y_test), prediction2))\n",
        "\n",
        "true_player_value=np.asarray(y_test)[1]\n",
        "predicted_player_value=prediction[1]\n",
        "\n",
        "print('True value for the first player in the test set in millions is : ' + str(true_player_value))\n",
        "print('Predicted value for the first player in the test set in millions is : ' + str(predicted_player_value))"
      ],
      "metadata": {
        "id": "_Do_JSiF-VSh"
      },
      "execution_count": null,
      "outputs": []
    },
    {
      "cell_type": "markdown",
      "source": [
        "## Polynomial Regression"
      ],
      "metadata": {
        "id": "23JLL0Q3-WV4"
      }
    },
    {
      "cell_type": "code",
      "source": [
        "import numpy as np\n",
        "import pandas as pd\n",
        "import seaborn as sns\n",
        "import matplotlib.pyplot as plt\n",
        "from sklearn import linear_model\n",
        "from sklearn import metrics\n",
        "from sklearn.model_selection import train_test_split\n",
        "from sklearn.preprocessing import PolynomialFeatures\n",
        "\n",
        "#Load players data\n",
        "data = pd.read_csv('fifa19.csv')\n",
        "#Drop the rows that contain missing values\n",
        "data.dropna(how='any',inplace=True)\n",
        "fifa_data=data.iloc[:,:]\n",
        "X=data.iloc[:,1:40] #Features\n",
        "Y=data['Value'] #Label\n",
        "cols=('Nationality','Club','Position')\n",
        "X=Feature_Encoder(X,cols);\n",
        "\n",
        "#Split the data to training and testing sets\n",
        "X_train, X_test, y_train, y_test = train_test_split(X, Y, test_size = 0.30)\n",
        "#Get the correlation between the features\n",
        "corr = fifa_data.corr()\n",
        "#Top 50% Correlation training features with the Value\n",
        "top_feature = corr.index[abs(corr['Value']>0.5)]\n",
        "#Correlation plot\n",
        "plt.subplots(figsize=(12, 8))\n",
        "top_corr = fifa_data[top_feature].corr()\n",
        "sns.heatmap(top_corr, annot=True)\n",
        "plt.show()\n",
        "\n",
        "poly_features = PolynomialFeatures(degree=2)\n",
        "\n",
        "# transforms the existing features to higher degree features.\n",
        "X_train_poly = poly_features.fit_transform(X_train)\n",
        "\n",
        "# fit the transformed features to Linear Regression\n",
        "poly_model = linear_model.LinearRegression()\n",
        "poly_model.fit(X_train_poly, y_train)\n",
        "\n",
        "# predicting on training data-set\n",
        "y_train_predicted = poly_model.predict(X_train_poly)\n",
        "\n",
        "# predicting on test data-set\n",
        "prediction = poly_model.predict(poly_features.fit_transform(X_test))\n",
        "\n",
        "\n",
        "print('Co-efficient of linear regression',poly_model.coef_)\n",
        "print('Intercept of linear regression model',poly_model.intercept_)\n",
        "print('Mean Square Error', metrics.mean_squared_error(y_test, prediction))\n",
        "\n",
        "true_player_value=np.asarray(y_test)[0]\n",
        "predicted_player_value=prediction[0]\n",
        "print('True value for the first player in the test set in millions is : ' + str(true_player_value))\n",
        "print('Predicted value for the first player in the test set in millions is : ' + str(predicted_player_value))"
      ],
      "metadata": {
        "id": "rIpjp5CJ-Xrc"
      },
      "execution_count": null,
      "outputs": []
    }
  ]
}